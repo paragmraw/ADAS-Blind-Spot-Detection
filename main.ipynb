{
 "cells": [
  {
   "attachments": {},
   "cell_type": "markdown",
   "metadata": {},
   "source": [
    "**Name: Parag Mandal**; <br>\n",
    "**USN: ENG20CS2046**; <br>\n",
    "**Institution: Dayananda Sagar University, Bengaluru**; <br>\n",
    "**Guide: Dr. Pramod Kumar Naik**; <br>\n",
    "**Topic:** Blind Spot Detection: Create an ADAS system that uses YOLO to detect vehicles in the driver's blind spot and alerts the driver when it's not safe to change lanes.\n"
   ]
  },
  {
   "cell_type": "code",
   "execution_count": null,
   "metadata": {},
   "outputs": [],
   "source": [
    "#CHECK GPU\n",
    "!nvidia-smi"
   ]
  },
  {
   "cell_type": "code",
   "execution_count": null,
   "metadata": {},
   "outputs": [],
   "source": [
    "import ultralytics\n",
    "ultralytics.checks()\n",
    "from ultralytics import YOLO\n",
    "model = YOLO(\"runs/detect/train/weights/best.pt\")"
   ]
  },
  {
   "cell_type": "code",
   "execution_count": null,
   "metadata": {},
   "outputs": [],
   "source": [
    "import cv2\n",
    "from pygame import mixer\n",
    "\n",
    "#Change 'fr' to change playback speed. Lower fr -> Greater playback speed\n",
    "fr=50\n",
    "\n",
    "# Open video file using OpenCV\n",
    "video_path = \"SampleVideos/short_rear.mp4\" #EDIT INPUT FILE\n",
    "cap = cv2.VideoCapture(video_path)\n",
    "mixer.init()\n",
    "mixer.music.load('warning.mp3')\n",
    "\n",
    "i=0\n",
    "\n",
    "# Define alert function to display a message when \"unsafe\" is detected\n",
    "def show_alert(i):\n",
    "    print(\"ALERT{0}!!!INCOMING VEHICLE\".format(int(i)))\n",
    "    mixer.music.play()\n",
    "\n",
    "# Loop over frames in the video\n",
    "while cap.isOpened():\n",
    "    # Read next frame from video\n",
    "    ret, frame = cap.read()\n",
    "    if not ret:\n",
    "        break\n",
    "\n",
    "    # Perform object detection inference on frame using the trained YOLOv8 model\n",
    "    response = model.predict(source=frame, classes=[1], conf=0.8, show=True)\n",
    "    \n",
    "    if response[0].boxes.cls.shape[0] > 0:\n",
    "        show_alert(i)\n",
    "        i=i+1\n",
    "    else:\n",
    "        mixer.music.stop()\n",
    "        \n",
    "    cv2.waitKey(fr)\n",
    "        \n",
    "    if cv2.waitKey(fr) & 0xFF == ord('q'):\n",
    "        break\n",
    "    \n",
    "\n",
    "# Release video capture and close window\n",
    "cap.release()\n",
    "cv2.destroyAllWindows()"
   ]
  }
 ],
 "metadata": {
  "kernelspec": {
   "display_name": "Python 3",
   "language": "python",
   "name": "python3"
  },
  "language_info": {
   "codemirror_mode": {
    "name": "ipython",
    "version": 3
   },
   "file_extension": ".py",
   "mimetype": "text/x-python",
   "name": "python",
   "nbconvert_exporter": "python",
   "pygments_lexer": "ipython3",
   "version": "3.10.6"
  },
  "orig_nbformat": 4
 },
 "nbformat": 4,
 "nbformat_minor": 2
}
